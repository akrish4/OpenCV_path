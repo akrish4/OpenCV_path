{
  "nbformat": 4,
  "nbformat_minor": 0,
  "metadata": {
    "colab": {
      "name": "OPenCV_numpy.ipynb",
      "provenance": [],
      "collapsed_sections": []
    },
    "kernelspec": {
      "name": "python3",
      "display_name": "Python 3"
    },
    "language_info": {
      "name": "python"
    }
  },
  "cells": [
    {
      "cell_type": "markdown",
      "metadata": {
        "id": "Wp5OwzermDgD"
      },
      "source": [
        "# OpenCV \n"
      ]
    },
    {
      "cell_type": "markdown",
      "metadata": {
        "id": "0dBzS5SumOnm"
      },
      "source": [
        "### Numpy \n",
        "\n",
        "##### Numpy is a python library used for working with arrays.\n",
        "##### It stands for Numerical-Python."
      ]
    },
    {
      "cell_type": "code",
      "metadata": {
        "colab": {
          "base_uri": "https://localhost:8080/"
        },
        "id": "tvq2VdYimRxx",
        "outputId": "43fbb963-e05e-4cee-de1d-db6978202ffa"
      },
      "source": [
        "import numpy as np\n",
        "arr = np.array([1,2,3,4,5,6,7])\n",
        "print(arr)"
      ],
      "execution_count": 1,
      "outputs": [
        {
          "output_type": "stream",
          "text": [
            "[1 2 3 4 5 6 7]\n"
          ],
          "name": "stdout"
        }
      ]
    },
    {
      "cell_type": "markdown",
      "metadata": {
        "id": "NYw1gnQqoJZJ"
      },
      "source": [
        "## Slicing"
      ]
    },
    {
      "cell_type": "code",
      "metadata": {
        "colab": {
          "base_uri": "https://localhost:8080/"
        },
        "id": "Zsy-xkUtmcYO",
        "outputId": "32df3eca-0a5d-4921-b412-05dfa8794f95"
      },
      "source": [
        "arr[1:5]           # slicing"
      ],
      "execution_count": 2,
      "outputs": [
        {
          "output_type": "execute_result",
          "data": {
            "text/plain": [
              "array([2, 3, 4, 5])"
            ]
          },
          "metadata": {
            "tags": []
          },
          "execution_count": 2
        }
      ]
    },
    {
      "cell_type": "code",
      "metadata": {
        "colab": {
          "base_uri": "https://localhost:8080/"
        },
        "id": "RLYKy2ormuAO",
        "outputId": "93bc8e27-2cd9-4a65-f352-e4e389310efb"
      },
      "source": [
        "arr[0:5]"
      ],
      "execution_count": 3,
      "outputs": [
        {
          "output_type": "execute_result",
          "data": {
            "text/plain": [
              "array([1, 2, 3, 4, 5])"
            ]
          },
          "metadata": {
            "tags": []
          },
          "execution_count": 3
        }
      ]
    },
    {
      "cell_type": "code",
      "metadata": {
        "colab": {
          "base_uri": "https://localhost:8080/"
        },
        "id": "9vEgm-Hmm5vq",
        "outputId": "09eeaf81-a0d8-4f3a-8665-9d7318643c18"
      },
      "source": [
        "arr[4:]"
      ],
      "execution_count": 6,
      "outputs": [
        {
          "output_type": "execute_result",
          "data": {
            "text/plain": [
              "array([5, 6, 7])"
            ]
          },
          "metadata": {
            "tags": []
          },
          "execution_count": 6
        }
      ]
    },
    {
      "cell_type": "code",
      "metadata": {
        "colab": {
          "base_uri": "https://localhost:8080/"
        },
        "id": "UAEAi_lUnEJL",
        "outputId": "54763b40-9cb9-40bd-da5b-87a1984f682a"
      },
      "source": [
        "arr[:4]"
      ],
      "execution_count": 7,
      "outputs": [
        {
          "output_type": "execute_result",
          "data": {
            "text/plain": [
              "array([1, 2, 3, 4])"
            ]
          },
          "metadata": {
            "tags": []
          },
          "execution_count": 7
        }
      ]
    },
    {
      "cell_type": "code",
      "metadata": {
        "colab": {
          "base_uri": "https://localhost:8080/"
        },
        "id": "9IcYD3xlnRYK",
        "outputId": "885097a5-4719-47f0-c3f2-033a81e71993"
      },
      "source": [
        "arr[-3:-1]"
      ],
      "execution_count": 8,
      "outputs": [
        {
          "output_type": "execute_result",
          "data": {
            "text/plain": [
              "array([5, 6])"
            ]
          },
          "metadata": {
            "tags": []
          },
          "execution_count": 8
        }
      ]
    },
    {
      "cell_type": "code",
      "metadata": {
        "colab": {
          "base_uri": "https://localhost:8080/"
        },
        "id": "a4EMn_sKnahE",
        "outputId": "dfb04319-d023-4d65-a323-3c703c2bd903"
      },
      "source": [
        "arr[:-2]"
      ],
      "execution_count": 9,
      "outputs": [
        {
          "output_type": "execute_result",
          "data": {
            "text/plain": [
              "array([1, 2, 3, 4, 5])"
            ]
          },
          "metadata": {
            "tags": []
          },
          "execution_count": 9
        }
      ]
    },
    {
      "cell_type": "code",
      "metadata": {
        "colab": {
          "base_uri": "https://localhost:8080/"
        },
        "id": "gXfIk5Rbnrtu",
        "outputId": "67ef19fc-66f1-4f6a-c6b9-a9992c7e9760"
      },
      "source": [
        "arr.dtype  # data type of numpy array "
      ],
      "execution_count": 10,
      "outputs": [
        {
          "output_type": "execute_result",
          "data": {
            "text/plain": [
              "dtype('int64')"
            ]
          },
          "metadata": {
            "tags": []
          },
          "execution_count": 10
        }
      ]
    },
    {
      "cell_type": "markdown",
      "metadata": {
        "id": "FOqZyvCy4Iqm"
      },
      "source": [
        "## Copy and View\n",
        "- The main difference between a copy and a view of an array is that the copy is a new array, and the view is just a view of the original array.\n",
        "- The copy owns the data and any changes made to the copy will not affect original array, and any changes made to the original array will not affect the copy.\n",
        "- The view does not own the data and any changes made to the view will affect the original array, and any changes made to the original array will affect the view."
      ]
    },
    {
      "cell_type": "code",
      "metadata": {
        "colab": {
          "base_uri": "https://localhost:8080/"
        },
        "id": "UUDREgE3ofzT",
        "outputId": "e5b5cf9a-f9fd-4e91-e288-3f5d49f38c42"
      },
      "source": [
        "arr1 = np.array([1,2,3,4,5])                # example for copy\n",
        "x = arr1.copy()\n",
        "arr1[0] = 17\n",
        "\n",
        "print(arr1)\n",
        "print(x)"
      ],
      "execution_count": 14,
      "outputs": [
        {
          "output_type": "stream",
          "text": [
            "[17  2  3  4  5]\n",
            "[1 2 3 4 5]\n"
          ],
          "name": "stdout"
        }
      ]
    },
    {
      "cell_type": "code",
      "metadata": {
        "colab": {
          "base_uri": "https://localhost:8080/"
        },
        "id": "RphtGV0L4W97",
        "outputId": "5b186814-1690-4da4-f734-29493a6eafe0"
      },
      "source": [
        "arr1 = np.array([1,2,3,4,5])                # example for view \n",
        "x = arr1.view()\n",
        "arr1[0] = 17\n",
        "\n",
        "print(arr1)\n",
        "print(x)"
      ],
      "execution_count": 15,
      "outputs": [
        {
          "output_type": "stream",
          "text": [
            "[17  2  3  4  5]\n",
            "[17  2  3  4  5]\n"
          ],
          "name": "stdout"
        }
      ]
    },
    {
      "cell_type": "markdown",
      "metadata": {
        "id": "-uIOZznG7xxB"
      },
      "source": [
        "## shape of an array"
      ]
    },
    {
      "cell_type": "code",
      "metadata": {
        "colab": {
          "base_uri": "https://localhost:8080/"
        },
        "id": "3_BPirye4iNP",
        "outputId": "4dbb2c4c-e2ad-448b-d056-179080a46cb8"
      },
      "source": [
        "## shape of an array \n",
        "arr.shape"
      ],
      "execution_count": 16,
      "outputs": [
        {
          "output_type": "execute_result",
          "data": {
            "text/plain": [
              "(7,)"
            ]
          },
          "metadata": {
            "tags": []
          },
          "execution_count": 16
        }
      ]
    },
    {
      "cell_type": "code",
      "metadata": {
        "colab": {
          "base_uri": "https://localhost:8080/"
        },
        "id": "yBTyrnJa7nLP",
        "outputId": "c82d9965-7ba5-46c8-a984-a088331d7ca0"
      },
      "source": [
        "arr1.shape"
      ],
      "execution_count": 17,
      "outputs": [
        {
          "output_type": "execute_result",
          "data": {
            "text/plain": [
              "(5,)"
            ]
          },
          "metadata": {
            "tags": []
          },
          "execution_count": 17
        }
      ]
    },
    {
      "cell_type": "code",
      "metadata": {
        "colab": {
          "base_uri": "https://localhost:8080/"
        },
        "id": "WwSwJLWE7rjR",
        "outputId": "32b8c0fd-dd72-4081-93d7-dea113c68ff1"
      },
      "source": [
        "arr2 = np.array([12,45,78,12,84,94])\n",
        "arr2.shape"
      ],
      "execution_count": 19,
      "outputs": [
        {
          "output_type": "execute_result",
          "data": {
            "text/plain": [
              "(6,)"
            ]
          },
          "metadata": {
            "tags": []
          },
          "execution_count": 19
        }
      ]
    },
    {
      "cell_type": "code",
      "metadata": {
        "id": "U0gsnbh58Kt5"
      },
      "source": [
        ""
      ],
      "execution_count": null,
      "outputs": []
    },
    {
      "cell_type": "markdown",
      "metadata": {
        "id": "3IdVsb7N9QgE"
      },
      "source": [
        "## Joining numpy array using concatenate()"
      ]
    },
    {
      "cell_type": "code",
      "metadata": {
        "colab": {
          "base_uri": "https://localhost:8080/"
        },
        "id": "KQaKrVFN9ZIr",
        "outputId": "330ef977-1395-4960-a324-372680373754"
      },
      "source": [
        "arr1 = np.array([1,2,3,4,5])  \n",
        "\n",
        "arr2 = np.array([12,45,78,12,84,94])\n",
        "\n",
        "arr3 = np.concatenate((arr1,arr2))\n",
        "print(arr3)\n",
        "\n"
      ],
      "execution_count": 29,
      "outputs": [
        {
          "output_type": "stream",
          "text": [
            "[ 1  2  3  4  5 12 45 78 12 84 94]\n"
          ],
          "name": "stdout"
        }
      ]
    },
    {
      "cell_type": "code",
      "metadata": {
        "colab": {
          "base_uri": "https://localhost:8080/"
        },
        "id": "Jr705wfi9efh",
        "outputId": "2165b98a-acc8-42dc-d9fe-aacba496e0e5"
      },
      "source": [
        "arr1 = np.array([[1, 2], [3, 4]])                 # 1-D array \n",
        "\n",
        "arr2 = np.array([[5, 6], [7, 8]])                 # 1-D array \n",
        "\n",
        "print(\"with axis\")\n",
        "\n",
        "arr = np.concatenate((arr1, arr2), axis=1)\n",
        "print(arr)\n",
        "\n",
        "print(\"without axis\")\n",
        "\n",
        "arr = np.concatenate((arr1, arr2))\n",
        "print(arr)"
      ],
      "execution_count": 40,
      "outputs": [
        {
          "output_type": "stream",
          "text": [
            "with axis\n",
            "[[1 2 5 6]\n",
            " [3 4 7 8]]\n",
            "without axis\n",
            "[[1 2]\n",
            " [3 4]\n",
            " [5 6]\n",
            " [7 8]]\n"
          ],
          "name": "stdout"
        }
      ]
    },
    {
      "cell_type": "markdown",
      "metadata": {
        "id": "c4yjTgPRAaBS"
      },
      "source": [
        "## Joining arrays using Stack Functions"
      ]
    },
    {
      "cell_type": "code",
      "metadata": {
        "colab": {
          "base_uri": "https://localhost:8080/"
        },
        "id": "0ln2M1-_ATWi",
        "outputId": "e75642cb-18d1-4715-8437-2ac3ff11b72f"
      },
      "source": [
        "arr1 = np.array([1, 2, 3])\n",
        "\n",
        "arr2 = np.array([4, 5, 6])\n",
        "\n",
        "arr = np.stack((arr1, arr2), axis=1)\n",
        "\n",
        "print(arr)"
      ],
      "execution_count": 42,
      "outputs": [
        {
          "output_type": "stream",
          "text": [
            "[[1 4]\n",
            " [2 5]\n",
            " [3 6]]\n"
          ],
          "name": "stdout"
        }
      ]
    },
    {
      "cell_type": "markdown",
      "metadata": {
        "id": "6w6b4-oUBCbH"
      },
      "source": [
        "### Joining arrays using Stack Functions\n",
        "\n",
        "(Stacking along Rows)"
      ]
    },
    {
      "cell_type": "code",
      "metadata": {
        "colab": {
          "base_uri": "https://localhost:8080/"
        },
        "id": "xrmx498SAgmb",
        "outputId": "3fedd680-afbc-4958-ca0b-fb0d1a488971"
      },
      "source": [
        "#  (Stacking along Rows)\n",
        "arr1 = np.array([1, 2, 3])\n",
        "\n",
        "arr2 = np.array([4, 5, 6])\n",
        "\n",
        "arr = np.hstack((arr1, arr2))\n",
        "\n",
        "print(arr)"
      ],
      "execution_count": 43,
      "outputs": [
        {
          "output_type": "stream",
          "text": [
            "[1 2 3 4 5 6]\n"
          ],
          "name": "stdout"
        }
      ]
    },
    {
      "cell_type": "markdown",
      "metadata": {
        "id": "CNFwPzmdBNa9"
      },
      "source": [
        "(Stacking along Columns)\n",
        "\n"
      ]
    },
    {
      "cell_type": "code",
      "metadata": {
        "colab": {
          "base_uri": "https://localhost:8080/"
        },
        "id": "ip_8iNjdA-V_",
        "outputId": "6ab66e7b-ca33-46dd-cf9f-ef4795c07897"
      },
      "source": [
        "arr1 = np.array([1, 2, 3])\n",
        "\n",
        "arr2 = np.array([4, 5, 6])\n",
        "\n",
        "arr = np.vstack((arr1, arr2))\n",
        "\n",
        "print(arr)"
      ],
      "execution_count": 44,
      "outputs": [
        {
          "output_type": "stream",
          "text": [
            "[[1 2 3]\n",
            " [4 5 6]]\n"
          ],
          "name": "stdout"
        }
      ]
    },
    {
      "cell_type": "markdown",
      "metadata": {
        "id": "KqtUPitaBUDk"
      },
      "source": [
        "(Stacking along height)"
      ]
    },
    {
      "cell_type": "code",
      "metadata": {
        "colab": {
          "base_uri": "https://localhost:8080/"
        },
        "id": "XY4jTEvvBXkR",
        "outputId": "23fae5f3-b669-449d-85d1-c0d17caf656b"
      },
      "source": [
        "arr1 = np.array([1, 2, 3])\n",
        "\n",
        "arr2 = np.array([4, 5, 6])\n",
        "\n",
        "arr = np.dstack((arr1, arr2))\n",
        "\n",
        "print(arr)"
      ],
      "execution_count": 45,
      "outputs": [
        {
          "output_type": "stream",
          "text": [
            "[[[1 4]\n",
            "  [2 5]\n",
            "  [3 6]]]\n"
          ],
          "name": "stdout"
        }
      ]
    },
    {
      "cell_type": "markdown",
      "metadata": {
        "id": "k-_IeI0jBqiv"
      },
      "source": [
        "## Splitting Numpy Arrays\n",
        "- Splitting is reverse operation of Joining.\n",
        "- Joining merges multiple arrays into one and Splitting breaks one array into multiple.\n",
        "- We use array_split() for splitting arrays, we pass it the array we want to split and the number of splits."
      ]
    },
    {
      "cell_type": "code",
      "metadata": {
        "colab": {
          "base_uri": "https://localhost:8080/"
        },
        "id": "xjWNcQCIBdOa",
        "outputId": "6e487525-c00e-4644-f8e8-0be5573be05d"
      },
      "source": [
        "arr = np.array([1, 2, 3, 4, 5, 6])\n",
        "\n",
        "newarr = np.array_split(arr, 3)\n",
        "\n",
        "print(newarr)"
      ],
      "execution_count": 47,
      "outputs": [
        {
          "output_type": "stream",
          "text": [
            "[array([1, 2]), array([3, 4]), array([5, 6])]\n"
          ],
          "name": "stdout"
        }
      ]
    },
    {
      "cell_type": "code",
      "metadata": {
        "colab": {
          "base_uri": "https://localhost:8080/"
        },
        "id": "fGXZ5W-LMYoj",
        "outputId": "ca7e66a3-f8cc-4e21-e0e4-dbe75df2a517"
      },
      "source": [
        "arr = np.array([1, 2, 3, 4, 5, 6])\n",
        "\n",
        "newarr = np.array_split(arr, 4)\n",
        "\n",
        "print(newarr)"
      ],
      "execution_count": 48,
      "outputs": [
        {
          "output_type": "stream",
          "text": [
            "[array([1, 2]), array([3, 4]), array([5]), array([6])]\n"
          ],
          "name": "stdout"
        }
      ]
    },
    {
      "cell_type": "markdown",
      "metadata": {
        "id": "_y_AnE01eFXd"
      },
      "source": [
        "## Numpy Searching Arrays\n",
        "\n",
        "- You can search an array for a certain value, and return the indexes that get a match.\n",
        "- To search an array, use the where() method."
      ]
    },
    {
      "cell_type": "code",
      "metadata": {
        "colab": {
          "base_uri": "https://localhost:8080/"
        },
        "id": "acWBI5xjeGu2",
        "outputId": "15490a0b-1a77-440e-b35e-dacee124c038"
      },
      "source": [
        "arr = np.array([1, 2, 3, 4, 5, 4, 4])\n",
        "\n",
        "x = np.where(arr == 4)\n",
        "\n",
        "y = np.where(arr == 2)\n",
        "\n",
        "z = np.where(arr == 0)\n",
        "\n",
        "print(x)\n",
        "print(y)\n",
        "print(z)"
      ],
      "execution_count": 53,
      "outputs": [
        {
          "output_type": "stream",
          "text": [
            "(array([3, 5, 6]),)\n",
            "(array([1]),)\n",
            "(array([], dtype=int64),)\n"
          ],
          "name": "stdout"
        }
      ]
    },
    {
      "cell_type": "code",
      "metadata": {
        "colab": {
          "base_uri": "https://localhost:8080/"
        },
        "id": "-75MDm4zeI8T",
        "outputId": "eaf25d20-856c-490d-b993-7125cf21f2db"
      },
      "source": [
        "# Example 2 \n",
        "\n",
        "arr = np.array([1, 2, 3, 4, 5, 6, 7, 8])\n",
        "\n",
        "x = np.where(arr%2 == 0)\n",
        "\n",
        "print(x)\n"
      ],
      "execution_count": 54,
      "outputs": [
        {
          "output_type": "stream",
          "text": [
            "(array([1, 3, 5, 7]),)\n"
          ],
          "name": "stdout"
        }
      ]
    },
    {
      "cell_type": "code",
      "metadata": {
        "colab": {
          "base_uri": "https://localhost:8080/"
        },
        "id": "mxiEDwyEgLxN",
        "outputId": "927333f3-038a-4540-d951-d2dc01658181"
      },
      "source": [
        "# Example 3 (Search Sorted)\n",
        "\n",
        "arr = np.array([6, 7, 8, 9])\n",
        "\n",
        "x = np.searchsorted(arr, 7)\n",
        "\n",
        "print(x)"
      ],
      "execution_count": 55,
      "outputs": [
        {
          "output_type": "stream",
          "text": [
            "1\n"
          ],
          "name": "stdout"
        }
      ]
    },
    {
      "cell_type": "code",
      "metadata": {
        "id": "Q7HtuRSEg3IF"
      },
      "source": [
        ""
      ],
      "execution_count": null,
      "outputs": []
    },
    {
      "cell_type": "markdown",
      "metadata": {
        "id": "c2ifDLqOg7EE"
      },
      "source": [
        "## Numpy Sorting Arrays\n",
        "- Sorting means putting elements in an ordered sequence\n",
        "- Ordered sequence is any sequence that has an order corresponding to elements, like numeric or alphabetical, ascending or descending.\n",
        "- The NumPy ndarray object has a function called sort(), that will sort a specified array."
      ]
    },
    {
      "cell_type": "code",
      "metadata": {
        "colab": {
          "base_uri": "https://localhost:8080/"
        },
        "id": "YQvovfgphGjv",
        "outputId": "ef67c6cc-3129-400a-ba3d-e33bd5491983"
      },
      "source": [
        "arr = np.array([3, 2, 0, 1])\n",
        "np.sort(arr)\n"
      ],
      "execution_count": 56,
      "outputs": [
        {
          "output_type": "execute_result",
          "data": {
            "text/plain": [
              "array([0, 1, 2, 3])"
            ]
          },
          "metadata": {
            "tags": []
          },
          "execution_count": 56
        }
      ]
    },
    {
      "cell_type": "code",
      "metadata": {
        "colab": {
          "base_uri": "https://localhost:8080/"
        },
        "id": "r7eYu28uipIs",
        "outputId": "2ebbdf7e-7bbc-4620-f297-d85882b712b2"
      },
      "source": [
        "# Example 2\n",
        "arr = np.array(['banana', 'cherry', 'apple'])\n",
        "np.sort(arr) "
      ],
      "execution_count": 57,
      "outputs": [
        {
          "output_type": "execute_result",
          "data": {
            "text/plain": [
              "array(['apple', 'banana', 'cherry'], dtype='<U6')"
            ]
          },
          "metadata": {
            "tags": []
          },
          "execution_count": 57
        }
      ]
    },
    {
      "cell_type": "code",
      "metadata": {
        "colab": {
          "base_uri": "https://localhost:8080/"
        },
        "id": "dJ4PYSTLoIza",
        "outputId": "30129fe4-181d-4416-a7c7-b7d559829f29"
      },
      "source": [
        "# Example 3 \n",
        "arr = np.array([True, False, True])\n",
        "np.sort(arr)"
      ],
      "execution_count": 59,
      "outputs": [
        {
          "output_type": "execute_result",
          "data": {
            "text/plain": [
              "array([False,  True,  True])"
            ]
          },
          "metadata": {
            "tags": []
          },
          "execution_count": 59
        }
      ]
    },
    {
      "cell_type": "code",
      "metadata": {
        "colab": {
          "base_uri": "https://localhost:8080/"
        },
        "id": "aHvGTYCGoR2V",
        "outputId": "c0cd826a-f405-4276-fc7d-71c5da0463d2"
      },
      "source": [
        "# Sorting 2-D array \n",
        "arr = np.array([[3, 2, 4], [5, 0, 1]])\n",
        "np.sort(arr)"
      ],
      "execution_count": 61,
      "outputs": [
        {
          "output_type": "execute_result",
          "data": {
            "text/plain": [
              "array([[2, 3, 4],\n",
              "       [0, 1, 5]])"
            ]
          },
          "metadata": {
            "tags": []
          },
          "execution_count": 61
        }
      ]
    },
    {
      "cell_type": "markdown",
      "metadata": {
        "id": "rfwj-sQUotDM"
      },
      "source": [
        "## Numpy Filter Array\n",
        "- Getting some elements out of an existing array and creating a new array out of them is called filtering.\n",
        "- In NumPy, you filter an array using a boolean index list.\n",
        "- If the value at an index is True that element is contained in the filtered array, if the value at that index is False that element is excluded from the filtered array."
      ]
    },
    {
      "cell_type": "code",
      "metadata": {
        "colab": {
          "base_uri": "https://localhost:8080/"
        },
        "id": "NVzUfef-o17_",
        "outputId": "68332ffd-e6ee-49ba-c83e-f486da4042af"
      },
      "source": [
        "arr = np.array([41, 42, 43, 44])\n",
        "x = [True, False, True, False]\n",
        "newarr = arr[x]\n",
        "print(newarr)\n",
        "y = [False,True, True, False]\n",
        "newarr1 = arr[y]\n",
        "print(newarr1)"
      ],
      "execution_count": 64,
      "outputs": [
        {
          "output_type": "stream",
          "text": [
            "[41 43]\n",
            "[42 43]\n"
          ],
          "name": "stdout"
        }
      ]
    },
    {
      "cell_type": "code",
      "metadata": {
        "colab": {
          "base_uri": "https://localhost:8080/"
        },
        "id": "gMPxtBa0rSJY",
        "outputId": "437807be-5e6f-4ef2-c3eb-3b9cc54a7c63"
      },
      "source": [
        "# Example 2\n",
        "arr = np.array([41, 42, 43, 44])\n",
        "filter_arr = arr > 42\n",
        "newarr = arr[filter_arr]\n",
        "print(newarr)"
      ],
      "execution_count": 65,
      "outputs": [
        {
          "output_type": "stream",
          "text": [
            "[43 44]\n"
          ],
          "name": "stdout"
        }
      ]
    },
    {
      "cell_type": "markdown",
      "metadata": {
        "id": "tBd-qO7u3Nq2"
      },
      "source": [
        "## Random Numbers in Numpy\n"
      ]
    },
    {
      "cell_type": "code",
      "metadata": {
        "colab": {
          "base_uri": "https://localhost:8080/"
        },
        "id": "SoAdOJBS3WB_",
        "outputId": "338cf543-2ed5-4ad8-c229-9d2057fedadc"
      },
      "source": [
        "# Generate Random Number from 0 to 100\n",
        "from numpy import random\n",
        "x = random.randint(100)\n",
        "print(x)"
      ],
      "execution_count": 75,
      "outputs": [
        {
          "output_type": "stream",
          "text": [
            "89\n"
          ],
          "name": "stdout"
        }
      ]
    },
    {
      "cell_type": "code",
      "metadata": {
        "colab": {
          "base_uri": "https://localhost:8080/"
        },
        "id": "AmxwIpeC3dUL",
        "outputId": "295a18bd-563b-4138-fab2-045c642240dc"
      },
      "source": [
        "# Generate Random Float number between 0 and 1\n",
        "x = random.rand()\n",
        "print(x)"
      ],
      "execution_count": 76,
      "outputs": [
        {
          "output_type": "stream",
          "text": [
            "0.9581547778009913\n"
          ],
          "name": "stdout"
        }
      ]
    },
    {
      "cell_type": "code",
      "metadata": {
        "colab": {
          "base_uri": "https://localhost:8080/"
        },
        "id": "8n4KVD5m33qN",
        "outputId": "365b73ac-467a-43db-9b15-1c3b1908844b"
      },
      "source": [
        "# Generate Random Array\n",
        "x1=random.randint(100, size=(5))\n",
        "x2=random.randint(100, size=(3, 5))\n",
        "\n",
        "print(x1)\n",
        "print(x2)"
      ],
      "execution_count": 77,
      "outputs": [
        {
          "output_type": "stream",
          "text": [
            "[ 4 69 84 37 69]\n",
            "[[56  3 72 46 18]\n",
            " [11 64 39 10 40]\n",
            " [59 17  3 89 30]]\n"
          ],
          "name": "stdout"
        }
      ]
    },
    {
      "cell_type": "code",
      "metadata": {
        "id": "u6_0KBPZ7eL1"
      },
      "source": [
        ""
      ],
      "execution_count": null,
      "outputs": []
    }
  ]
}